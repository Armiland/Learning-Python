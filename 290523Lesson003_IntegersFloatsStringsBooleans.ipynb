{
 "cells": [
  {
   "cell_type": "code",
   "execution_count": null,
   "metadata": {},
   "outputs": [],
   "source": [
    "#There are four basic data types in Python.\n",
    "#Integer.\n",
    "#Float.\n",
    "#String.\n",
    "#Boolean.\n",
    "#There are more! But this is the main set for beginners."
   ]
  },
  {
   "cell_type": "code",
   "execution_count": null,
   "metadata": {},
   "outputs": [],
   "source": [
    "#Int, or integer, is a whole number, positive or negative, without decimals, of unlimited length.\n",
    "#So, for example, an Integer acting as a container would be something like\n",
    "#age =21\n",
    "#players = 2\n",
    "#quantity = 5\n",
    "#Strictly, whole numbers. You would have half a person playing a game, or be purchasing half a product!\n",
    "#At least, not in these examples!"
   ]
  },
  {
   "cell_type": "code",
   "execution_count": 3,
   "metadata": {},
   "outputs": [],
   "source": [
    "age = 21\n",
    "players = 2\n",
    "quantity = 5"
   ]
  },
  {
   "cell_type": "code",
   "execution_count": null,
   "metadata": {},
   "outputs": [],
   "source": [
    "#Now print the variables using their container name.\n",
    "#print (f\"You are {age} years old.\")\n",
    "#print (f\"There are {players} players online.\")\n",
    "#print (f\"You would like to buy {quantity} items.\")"
   ]
  },
  {
   "cell_type": "code",
   "execution_count": 4,
   "metadata": {},
   "outputs": [
    {
     "name": "stdout",
     "output_type": "stream",
     "text": [
      "You are 21 years old.\n",
      "There are 2 players online.\n",
      "You would like to buy 5 items.\n"
     ]
    }
   ],
   "source": [
    "print (f\"You are {age} years old.\")\n",
    "print (f\"There are {players} players online.\")\n",
    "print (f\"You would like to buy {quantity} items.\")"
   ]
  },
  {
   "cell_type": "code",
   "execution_count": null,
   "metadata": {},
   "outputs": [],
   "source": [
    "#A 'Float' is a value that contains a decimal portion. For example...\n",
    "#BMI = 29.2\n",
    "#Distance = 2.5\n",
    "#Price = 10.99\n",
    "\n"
   ]
  },
  {
   "cell_type": "code",
   "execution_count": 5,
   "metadata": {},
   "outputs": [],
   "source": [
    "BMI = 29.2\n",
    "Distance = 2.5\n",
    "Price = 10.99"
   ]
  },
  {
   "cell_type": "code",
   "execution_count": 7,
   "metadata": {},
   "outputs": [],
   "source": [
    "#So, for example, these could print as\n",
    "#print (f\"Your BMI is {BMI}.\")\n",
    "#print (f\"You ran {distance}KM.\")\n",
    "#print (f\"The price is £{price}.\")"
   ]
  },
  {
   "cell_type": "code",
   "execution_count": 8,
   "metadata": {},
   "outputs": [
    {
     "name": "stdout",
     "output_type": "stream",
     "text": [
      "Your BMI is 29.2.\n"
     ]
    },
    {
     "ename": "NameError",
     "evalue": "name 'distance' is not defined",
     "output_type": "error",
     "traceback": [
      "\u001b[1;31m---------------------------------------------------------------------------\u001b[0m",
      "\u001b[1;31mNameError\u001b[0m                                 Traceback (most recent call last)",
      "Cell \u001b[1;32mIn[8], line 2\u001b[0m\n\u001b[0;32m      1\u001b[0m \u001b[39mprint\u001b[39m (\u001b[39mf\u001b[39m\u001b[39m\"\u001b[39m\u001b[39mYour BMI is \u001b[39m\u001b[39m{\u001b[39;00mBMI\u001b[39m}\u001b[39;00m\u001b[39m.\u001b[39m\u001b[39m\"\u001b[39m)\n\u001b[1;32m----> 2\u001b[0m \u001b[39mprint\u001b[39m (\u001b[39mf\u001b[39m\u001b[39m\"\u001b[39m\u001b[39mYou ran \u001b[39m\u001b[39m{\u001b[39;00mdistance\u001b[39m}\u001b[39;00m\u001b[39mKM.\u001b[39m\u001b[39m\"\u001b[39m)\n\u001b[0;32m      3\u001b[0m \u001b[39mprint\u001b[39m (\u001b[39mf\u001b[39m\u001b[39m\"\u001b[39m\u001b[39mThe price is £\u001b[39m\u001b[39m{\u001b[39;00mprice\u001b[39m}\u001b[39;00m\u001b[39m.\u001b[39m\u001b[39m\"\u001b[39m)\n",
      "\u001b[1;31mNameError\u001b[0m: name 'distance' is not defined"
     ]
    }
   ],
   "source": [
    "print (f\"Your BMI is {BMI}.\")\n",
    "print (f\"You ran {distance}KM.\")\n",
    "print (f\"The price is £{price}.\")"
   ]
  },
  {
   "cell_type": "code",
   "execution_count": null,
   "metadata": {},
   "outputs": [],
   "source": [
    "#Now, here's a fun fact!\n",
    "#Your containers are case sensitive!\n",
    "#Try again...\n",
    "#print (f\"Your BMI is {BMI}.\")\n",
    "#print (f\"You ran {Distance}KM.\")\n",
    "#print (f\"The price is £{Price}.\")"
   ]
  },
  {
   "cell_type": "code",
   "execution_count": 9,
   "metadata": {},
   "outputs": [
    {
     "name": "stdout",
     "output_type": "stream",
     "text": [
      "Your BMI is 29.2.\n",
      "You ran 2.5KM.\n",
      "The price is £10.99.\n"
     ]
    }
   ],
   "source": [
    "print (f\"Your BMI is {BMI}.\")\n",
    "print (f\"You ran {Distance}KM.\")\n",
    "print (f\"The price is £{Price}.\")"
   ]
  },
  {
   "cell_type": "code",
   "execution_count": null,
   "metadata": {},
   "outputs": [],
   "source": [
    "#A String is a series of text.\n",
    "#A String can include numbers but, unlike Integers, can't be used as equations.\n",
    "#The numbers within Strings are essentially treat exactly like letters in text.\n",
    "#When defining the variable within a string container, you use parenthesis.\n",
    "#name = \"Lauren\"\n",
    "#food = \"pizza\"\n",
    "#email = \"lauren123@gmail.com\""
   ]
  },
  {
   "cell_type": "code",
   "execution_count": 11,
   "metadata": {},
   "outputs": [],
   "source": [
    "name = \"Lauren\"\n",
    "food = \"pizza\"\n",
    "email = \"lauren123@gmail.com\""
   ]
  },
  {
   "cell_type": "code",
   "execution_count": null,
   "metadata": {},
   "outputs": [],
   "source": [
    "#So you can print a string as\n",
    "#print (f\"Hello, {name}!\")\n",
    "#print (f\"We are trying to send you vouchers for {food}!\")\n",
    "#print (f\"Is your email address still {email}?\")"
   ]
  },
  {
   "cell_type": "code",
   "execution_count": 12,
   "metadata": {},
   "outputs": [
    {
     "name": "stdout",
     "output_type": "stream",
     "text": [
      "Hello, Lauren!\n",
      "We are trying to send you vouchers for pizza!\n",
      "Is your email address still lauren123@gmail.com?\n"
     ]
    }
   ],
   "source": [
    "print (f\"Hello, {name}!\")\n",
    "print (f\"We are trying to send you vouchers for {food}!\")\n",
    "print (f\"Is your email address still {email}?\")"
   ]
  },
  {
   "cell_type": "code",
   "execution_count": null,
   "metadata": {},
   "outputs": [],
   "source": [
    "#A Boolean is binary data that is typically used internally, and is either true or false.\n",
    "#For example, a person can either be online or offline. Something can either be for sale, or not.\n",
    "#A process will either be running or not.\n",
    "#Correctly written, a booleans True/False variable will always begin in an uppercase character\n",
    "#and, unlike String, must not use parenthesis to define the variable in the container. For example: \n",
    "#online = True\n",
    "#for_sale = False\n",
    "#running = True"
   ]
  },
  {
   "cell_type": "code",
   "execution_count": 18,
   "metadata": {},
   "outputs": [],
   "source": [
    "online = True\n",
    "for_sale = False\n",
    "running = True"
   ]
  },
  {
   "cell_type": "code",
   "execution_count": null,
   "metadata": {},
   "outputs": [],
   "source": [
    "#So, for example, this might print as\n",
    "#print (f\"Are you online?: {online}\")\n",
    "#print (f\"Is the item for sale?: {for_sale}\")\n",
    "#print (f\"Is the system running?: {running}\")"
   ]
  },
  {
   "cell_type": "code",
   "execution_count": 19,
   "metadata": {},
   "outputs": [
    {
     "name": "stdout",
     "output_type": "stream",
     "text": [
      "Are you online?: True\n",
      "Is the item for sale?: False\n",
      "Is the system running?: True\n"
     ]
    }
   ],
   "source": [
    "print (f\"Are you online?: {online}\")\n",
    "print (f\"Is the item for sale?: {for_sale}\")\n",
    "print (f\"Is the system running?: {running}\")"
   ]
  }
 ],
 "metadata": {
  "kernelspec": {
   "display_name": "Python 3",
   "language": "python",
   "name": "python3"
  },
  "language_info": {
   "codemirror_mode": {
    "name": "ipython",
    "version": 3
   },
   "file_extension": ".py",
   "mimetype": "text/x-python",
   "name": "python",
   "nbconvert_exporter": "python",
   "pygments_lexer": "ipython3",
   "version": "3.11.3"
  },
  "orig_nbformat": 4
 },
 "nbformat": 4,
 "nbformat_minor": 2
}
