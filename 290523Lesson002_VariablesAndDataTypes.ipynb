{
 "cells": [
  {
   "cell_type": "code",
   "execution_count": null,
   "metadata": {},
   "outputs": [],
   "source": [
    "# using this symbol allows you to write a comment. This means it won't run as code, \n",
    "# so won't print in the Terminal Console."
   ]
  },
  {
   "cell_type": "code",
   "execution_count": null,
   "metadata": {},
   "outputs": [],
   "source": [
    "# This lesson is on 'Variables'.\n",
    "# A Variable is a reusable container for storing a value.\n",
    "# A Variable behaves as if it were the value it contains.\n",
    "# For example if X = 21, then X is the container and 21 is the variable.\n",
    "# To print the variable attributed to a container, simply type the command 'print'\n",
    "# Followed by the container name in brackets."
   ]
  },
  {
   "cell_type": "code",
   "execution_count": 1,
   "metadata": {},
   "outputs": [
    {
     "name": "stdout",
     "output_type": "stream",
     "text": [
      "21\n"
     ]
    }
   ],
   "source": [
    "x = 21\n",
    "print (x)"
   ]
  },
  {
   "cell_type": "code",
   "execution_count": null,
   "metadata": {},
   "outputs": [],
   "source": [
    "# If you need to print the name of the container, rather than the variable attributed to it\n",
    "# simply put the name of the variable in \"quote marks\"."
   ]
  },
  {
   "cell_type": "code",
   "execution_count": 3,
   "metadata": {},
   "outputs": [
    {
     "name": "stdout",
     "output_type": "stream",
     "text": [
      "x\n"
     ]
    }
   ],
   "source": [
    "print (\"x\")"
   ]
  },
  {
   "cell_type": "code",
   "execution_count": null,
   "metadata": {},
   "outputs": [],
   "source": [
    "# If you want to print your variable as part of a sentence structure\n",
    "# for example, \"You are X years old\" to print \"You are 21 years old\"\n",
    "# you can use something called 'string concatenation'.\n",
    "# Essentially, this is the process of splitting two lines of text into separate strings.\n",
    "# You would write this as:\n",
    "# \"You are\" +x+ \"years old\""
   ]
  },
  {
   "cell_type": "code",
   "execution_count": 4,
   "metadata": {},
   "outputs": [
    {
     "ename": "TypeError",
     "evalue": "can only concatenate str (not \"int\") to str",
     "output_type": "error",
     "traceback": [
      "\u001b[1;31m---------------------------------------------------------------------------\u001b[0m",
      "\u001b[1;31mTypeError\u001b[0m                                 Traceback (most recent call last)",
      "Cell \u001b[1;32mIn[4], line 1\u001b[0m\n\u001b[1;32m----> 1\u001b[0m \u001b[39mprint\u001b[39m (\u001b[39m\"\u001b[39;49m\u001b[39mYou are\u001b[39;49m\u001b[39m\"\u001b[39;49m \u001b[39m+\u001b[39;49mx\u001b[39m+\u001b[39m \u001b[39m\"\u001b[39m\u001b[39myears old\u001b[39m\u001b[39m\"\u001b[39m)\n",
      "\u001b[1;31mTypeError\u001b[0m: can only concatenate str (not \"int\") to str"
     ]
    }
   ],
   "source": [
    "print (\"You are\" +x+ \"years old\")"
   ]
  },
  {
   "cell_type": "code",
   "execution_count": null,
   "metadata": {},
   "outputs": [],
   "source": [
    "#This results in an error. can only concatenate str (not \"int\") to str.\n",
    "# Why?\n",
    "# This is because Python will not allow you to add numbers to strings directly. \n",
    "# str stands for 'string'. int stands for 'integer'.\n",
    "# An integer is a whole number, positive or negative, without decimals, of unlimited length.\n",
    "# A string is a collection of alphabets, words or other characters.\n",
    "# In order to overcome Python's \"mind set\" on this, we need to do something called\n",
    "# 'Type Casting'.\n",
    "# To display a number along with some text, in the example, we need to \"cast\" the variable of '21'\n",
    "# which is a number, into text (aka, a string).\n",
    "# To do this, preceed the container command with 'str', then surround the container with a set of brackets.\n",
    "# So this would be (\"You are\" +str(x)+ \"years old.\")"
   ]
  },
  {
   "cell_type": "code",
   "execution_count": 7,
   "metadata": {},
   "outputs": [
    {
     "name": "stdout",
     "output_type": "stream",
     "text": [
      "You are21years old.\n"
     ]
    }
   ],
   "source": [
    "print (\"You are\" +str(x)+ \"years old.\")"
   ]
  },
  {
   "cell_type": "code",
   "execution_count": null,
   "metadata": {},
   "outputs": [],
   "source": [
    "#Now that's almost perfect!\n",
    "#For best practice, you just need to amend the spacing for print\n",
    "#to ensure it displays neatly and correctly.\n",
    "#The spaces will need to be within the quote marks in order to be correctly read and printed."
   ]
  },
  {
   "cell_type": "code",
   "execution_count": 9,
   "metadata": {},
   "outputs": [
    {
     "name": "stdout",
     "output_type": "stream",
     "text": [
      "You are 21 years old\n"
     ]
    }
   ],
   "source": [
    "print (\"You are \" +str(x)+ \" years old\")"
   ]
  },
  {
   "cell_type": "code",
   "execution_count": null,
   "metadata": {},
   "outputs": [],
   "source": [
    "#Another way to print a numeric variable along with some text is to\n",
    "#separate the text and variables into separate arguements within the parameter.\n",
    "#A parameter is the variable listed inside the parentheses in the function definition. \n",
    "#An argument is the value that are sent to the function when it is called.\n",
    "#To do this, write the print command in brackets and parenthesis as normal.\n",
    "#Wherever you have a variable, close the parenthesis, write a comma, then write the variable name. \n",
    "#If you have more text to follow, write another comma then the continued print command in a new set of parenthesis.\n",
    "#print (\"You are \" ,x, \" years old\")"
   ]
  },
  {
   "cell_type": "code",
   "execution_count": 10,
   "metadata": {},
   "outputs": [
    {
     "name": "stdout",
     "output_type": "stream",
     "text": [
      "You are  21  years old\n"
     ]
    }
   ],
   "source": [
    "print (\"You are \" ,x, \" years old\")"
   ]
  },
  {
   "cell_type": "code",
   "execution_count": null,
   "metadata": {},
   "outputs": [],
   "source": [
    "#Once again, almost perfect!\n",
    "#If you choose the method of separating your variables and text into separate arguements\n",
    "#it will include a space automatically.\n",
    "#So, as before, for best practice, you will need to amend the spacing in your command.\n",
    "#print (\"You are\" ,x, \"years old\")"
   ]
  },
  {
   "cell_type": "code",
   "execution_count": 11,
   "metadata": {},
   "outputs": [
    {
     "name": "stdout",
     "output_type": "stream",
     "text": [
      "You are 21 years old\n"
     ]
    }
   ],
   "source": [
    "print (\"You are\" ,x, \"years old\")"
   ]
  },
  {
   "cell_type": "code",
   "execution_count": null,
   "metadata": {},
   "outputs": [],
   "source": [
    "#Perfectito."
   ]
  },
  {
   "cell_type": "code",
   "execution_count": null,
   "metadata": {},
   "outputs": [],
   "source": [
    "#The third, and increasingly more popular, way of printing a numerical variable with a set of text is\n",
    "#is to use what is called a 'Formatted String Literal', or 'F String' for short.\n",
    "#F Strings let you include the value of Python expressions inside a string.\n",
    "#To use an F String, simply preceed the parenthesis within your print command brackets with F.\n",
    "#Then, wherever you would like to insert a variable, use a set of curly braces {}\n",
    "#and place your container within the curly braces.\n",
    "#print (f\"You are {x} years old\")\n"
   ]
  },
  {
   "cell_type": "code",
   "execution_count": 13,
   "metadata": {},
   "outputs": [
    {
     "name": "stdout",
     "output_type": "stream",
     "text": [
      "You are 21 years old\n"
     ]
    }
   ],
   "source": [
    "print (f\"You are {x} years old\")"
   ]
  }
 ],
 "metadata": {
  "kernelspec": {
   "display_name": "Python 3",
   "language": "python",
   "name": "python3"
  },
  "language_info": {
   "codemirror_mode": {
    "name": "ipython",
    "version": 3
   },
   "file_extension": ".py",
   "mimetype": "text/x-python",
   "name": "python",
   "nbconvert_exporter": "python",
   "pygments_lexer": "ipython3",
   "version": "3.11.3"
  },
  "orig_nbformat": 4
 },
 "nbformat": 4,
 "nbformat_minor": 2
}
