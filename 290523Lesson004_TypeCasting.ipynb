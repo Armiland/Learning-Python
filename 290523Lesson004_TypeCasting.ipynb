{
 "cells": [
  {
   "cell_type": "code",
   "execution_count": null,
   "metadata": {},
   "outputs": [],
   "source": [
    "#Type Casting is the process of converting a value of one data type to another.\n",
    "#So, converting between Integers, Floats, Strings and Booleans.\n",
    "#There are two different ways you can type cast. \n",
    "#Explicity or Implicity."
   ]
  },
  {
   "cell_type": "code",
   "execution_count": null,
   "metadata": {},
   "outputs": [],
   "source": [
    "#First, let's look at type casting explicity. Begin with an integer, a float, a string and a boolean.\n",
    "#name = \"Lauren\"\n",
    "#age = 33\n",
    "#bmi = 23.2\n",
    "#coder = True"
   ]
  },
  {
   "cell_type": "code",
   "execution_count": 1,
   "metadata": {},
   "outputs": [],
   "source": [
    "name = \"Lauren\"\n",
    "age = 33\n",
    "bmi = 23.2\n",
    "coder = True"
   ]
  },
  {
   "cell_type": "code",
   "execution_count": null,
   "metadata": {},
   "outputs": [],
   "source": [
    "#If you ever need to check the data type of your variable, type 'type' followed by the name of the container \n",
    "#in brackets. Type this as a print function. So this would look something like...\n",
    "#print (type(name))."
   ]
  },
  {
   "cell_type": "code",
   "execution_count": 3,
   "metadata": {},
   "outputs": [
    {
     "name": "stdout",
     "output_type": "stream",
     "text": [
      "<class 'str'>\n",
      "<class 'int'>\n",
      "<class 'float'>\n",
      "<class 'bool'>\n"
     ]
    }
   ],
   "source": [
    "print (type(name))\n",
    "print (type(age))\n",
    "print (type(bmi))\n",
    "print (type(coder))"
   ]
  },
  {
   "cell_type": "code",
   "execution_count": null,
   "metadata": {},
   "outputs": [],
   "source": [
    "#So, as you can see, you have successfully written an example of each a string (str), an integer (int),\n",
    "#a float (float) and a boolean (bool)."
   ]
  },
  {
   "cell_type": "code",
   "execution_count": null,
   "metadata": {},
   "outputs": [],
   "source": [
    "#Time now for explicit type casting."
   ]
  }
 ],
 "metadata": {
  "kernelspec": {
   "display_name": "Python 3",
   "language": "python",
   "name": "python3"
  },
  "language_info": {
   "codemirror_mode": {
    "name": "ipython",
    "version": 3
   },
   "file_extension": ".py",
   "mimetype": "text/x-python",
   "name": "python",
   "nbconvert_exporter": "python",
   "pygments_lexer": "ipython3",
   "version": "3.11.3"
  },
  "orig_nbformat": 4
 },
 "nbformat": 4,
 "nbformat_minor": 2
}
