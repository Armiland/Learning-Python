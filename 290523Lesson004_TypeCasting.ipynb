{
 "cells": [
  {
   "cell_type": "code",
   "execution_count": null,
   "metadata": {},
   "outputs": [],
   "source": [
    "#Type Casting is the process of converting a value of one data type to another.\n",
    "#So, converting between Integers, Floats, Strings and Booleans.\n",
    "#There are two different ways you can type cast. \n",
    "#Explicity or Implicity."
   ]
  },
  {
   "cell_type": "code",
   "execution_count": null,
   "metadata": {},
   "outputs": [],
   "source": [
    "#First, let's look at type casting explicity. Begin with an integer, a float, a string and a boolean.\n",
    "#name = \"Lauren\"\n",
    "#age = 33\n",
    "#bmi = 23.2\n",
    "#coder = True"
   ]
  },
  {
   "cell_type": "code",
   "execution_count": 1,
   "metadata": {},
   "outputs": [],
   "source": [
    "name = \"Lauren\"\n",
    "age = 33\n",
    "bmi = 23.2\n",
    "coder = True"
   ]
  },
  {
   "cell_type": "code",
   "execution_count": null,
   "metadata": {},
   "outputs": [],
   "source": [
    "#If you ever need to check the data type of your variable, type 'type' followed by the name of the container \n",
    "#in brackets. Type this as a print function. So this would look something like...\n",
    "#print (type(name))."
   ]
  },
  {
   "cell_type": "code",
   "execution_count": 3,
   "metadata": {},
   "outputs": [
    {
     "name": "stdout",
     "output_type": "stream",
     "text": [
      "<class 'str'>\n",
      "<class 'int'>\n",
      "<class 'float'>\n",
      "<class 'bool'>\n"
     ]
    }
   ],
   "source": [
    "print (type(name))\n",
    "print (type(age))\n",
    "print (type(bmi))\n",
    "print (type(coder))"
   ]
  },
  {
   "cell_type": "code",
   "execution_count": null,
   "metadata": {},
   "outputs": [],
   "source": [
    "#So, as you can see, you have successfully written an example of each a string (str), an integer (int),\n",
    "#a float (float) and a boolean (bool)."
   ]
  },
  {
   "cell_type": "code",
   "execution_count": null,
   "metadata": {},
   "outputs": [],
   "source": [
    "#Time now for explicit type casting.\n",
    "#Explicit Type Casting is manually converting a value or variable into a different data type,\n",
    "#by using one of the cast keywords. The cast keywords are shown above. These are\n",
    "#'str' 'int' 'float' and 'bool'.\n"
   ]
  },
  {
   "cell_type": "code",
   "execution_count": null,
   "metadata": {},
   "outputs": [],
   "source": [
    "#Let's say you want to take your variable 'age', which is currently an integar (or 'int') \n",
    "#and convert it into a float (or 'float')\n",
    "#You would take the variable 'age', reassign it's value with '=' then EXPLICITLY case 'age' into a float\n",
    "#by typing 'float (age)'. \n",
    "# age = (float (age))\n"
   ]
  },
  {
   "cell_type": "code",
   "execution_count": 4,
   "metadata": {},
   "outputs": [],
   "source": [
    "age = (float (age))"
   ]
  },
  {
   "cell_type": "code",
   "execution_count": null,
   "metadata": {},
   "outputs": [],
   "source": [
    "#To check it's worked, you can do both the print command, as well as the print (type (age)) command used above."
   ]
  },
  {
   "cell_type": "code",
   "execution_count": 5,
   "metadata": {},
   "outputs": [
    {
     "name": "stdout",
     "output_type": "stream",
     "text": [
      "33.0\n",
      "<class 'float'>\n"
     ]
    }
   ],
   "source": [
    "print (age)\n",
    "print (type(age))"
   ]
  },
  {
   "cell_type": "code",
   "execution_count": null,
   "metadata": {},
   "outputs": [],
   "source": [
    "#Voila! You can tell it's a float value because it has a decimal point, but if there was any doubt, the\n",
    "#<class 'float'> output has confirmed this for us.\n",
    "#Now try convert the bmi value (presently a 'float') into an integer (or 'int') using the same method."
   ]
  },
  {
   "cell_type": "code",
   "execution_count": 6,
   "metadata": {},
   "outputs": [],
   "source": [
    "bmi = (int (bmi))"
   ]
  },
  {
   "cell_type": "code",
   "execution_count": 7,
   "metadata": {},
   "outputs": [
    {
     "name": "stdout",
     "output_type": "stream",
     "text": [
      "23\n",
      "<class 'int'>\n"
     ]
    }
   ],
   "source": [
    "print (bmi)\n",
    "print (type(bmi))"
   ]
  },
  {
   "cell_type": "code",
   "execution_count": null,
   "metadata": {},
   "outputs": [],
   "source": [
    "#Smashed it M8. You know it's an int because it's dropped it decimal from, leaving behind it's float status\n",
    "#and instead now only displays as a whole number '23', because it's now behaving as a simple whole number integer...\n",
    "#because it is an integer!!!\n",
    "#because you explicitly made it one!!!\n",
    "#Now? \n",
    "#Convert your boolian into a string."
   ]
  },
  {
   "cell_type": "code",
   "execution_count": 8,
   "metadata": {},
   "outputs": [],
   "source": [
    "coder = (str (coder))"
   ]
  },
  {
   "cell_type": "code",
   "execution_count": 9,
   "metadata": {},
   "outputs": [
    {
     "name": "stdout",
     "output_type": "stream",
     "text": [
      "True\n",
      "<class 'str'>\n"
     ]
    }
   ],
   "source": [
    "print (coder)\n",
    "print (type(coder))"
   ]
  },
  {
   "cell_type": "code",
   "execution_count": null,
   "metadata": {},
   "outputs": [],
   "source": [
    "#You did it!! It still says 'True', and it appears how it did before, however it now behaves like a string of\n",
    "#letters, rather than a boolean. And if you doubted that, the print type command proves it.\n",
    "#Alright, last one.\n",
    "#Convert your integer into a boolean."
   ]
  },
  {
   "cell_type": "code",
   "execution_count": 10,
   "metadata": {},
   "outputs": [],
   "source": [
    "age = (bool (age))"
   ]
  },
  {
   "cell_type": "code",
   "execution_count": 11,
   "metadata": {},
   "outputs": [
    {
     "name": "stdout",
     "output_type": "stream",
     "text": [
      "True\n",
      "<class 'bool'>\n"
     ]
    }
   ],
   "source": [
    "print (age)\n",
    "print (type(age))"
   ]
  },
  {
   "cell_type": "code",
   "execution_count": null,
   "metadata": {},
   "outputs": [],
   "source": [
    "#It displays as true! That's because any number (yes, any number) other than a zero will display as True in a\n",
    "#boolean. A zero will always display as false."
   ]
  },
  {
   "cell_type": "code",
   "execution_count": null,
   "metadata": {},
   "outputs": [],
   "source": [
    "#Well, you nailed that. Now let's move on to implicit type casting.\n",
    "#Implicit type casting is when a value or variable is converted into a different data type automatically.\n",
    "#For example, if we label x to be 2 and y to be 2.0, we know that x is an integer and y is a float.\n",
    "#But if you converted one of them through the process of an equation, what would it convert into?\n",
    "#Let's find out..."
   ]
  },
  {
   "cell_type": "code",
   "execution_count": 12,
   "metadata": {},
   "outputs": [],
   "source": [
    "x = 2\n",
    "y = 2.0"
   ]
  },
  {
   "cell_type": "code",
   "execution_count": null,
   "metadata": {},
   "outputs": [],
   "source": [
    "#Now reassign the value of x to x divided by y."
   ]
  },
  {
   "cell_type": "code",
   "execution_count": 13,
   "metadata": {},
   "outputs": [],
   "source": [
    "x = x / y"
   ]
  },
  {
   "cell_type": "code",
   "execution_count": null,
   "metadata": {},
   "outputs": [],
   "source": [
    "#Now use your print and print type commands to learn the new value and type of x."
   ]
  },
  {
   "cell_type": "code",
   "execution_count": 14,
   "metadata": {},
   "outputs": [
    {
     "name": "stdout",
     "output_type": "stream",
     "text": [
      "1.0\n",
      "<class 'float'>\n"
     ]
    }
   ],
   "source": [
    "print (x)\n",
    "print (type(x))"
   ]
  },
  {
   "cell_type": "code",
   "execution_count": null,
   "metadata": {},
   "outputs": [],
   "source": [
    "#As a result of implicit type casting, x became a float through the equation to create a new value to x."
   ]
  }
 ],
 "metadata": {
  "kernelspec": {
   "display_name": "Python 3",
   "language": "python",
   "name": "python3"
  },
  "language_info": {
   "codemirror_mode": {
    "name": "ipython",
    "version": 3
   },
   "file_extension": ".py",
   "mimetype": "text/x-python",
   "name": "python",
   "nbconvert_exporter": "python",
   "pygments_lexer": "ipython3",
   "version": "3.11.3"
  },
  "orig_nbformat": 4
 },
 "nbformat": 4,
 "nbformat_minor": 2
}
